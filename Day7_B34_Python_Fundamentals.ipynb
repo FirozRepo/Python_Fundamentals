{
 "cells": [
  {
   "cell_type": "code",
   "execution_count": 1,
   "metadata": {},
   "outputs": [],
   "source": [
    "students=['amardeep','sania','kumar','vishnu','rashmilla','keerthi']"
   ]
  },
  {
   "cell_type": "code",
   "execution_count": 2,
   "metadata": {},
   "outputs": [
    {
     "name": "stdout",
     "output_type": "stream",
     "text": [
      "['amardeep', 'sania', 'kumar', 'vishnu', 'rashmilla', 'keerthi']\n"
     ]
    }
   ],
   "source": [
    "print(students)"
   ]
  },
  {
   "cell_type": "code",
   "execution_count": null,
   "metadata": {},
   "outputs": [],
   "source": [
    "Intriduction to loops : "
   ]
  },
  {
   "cell_type": "code",
   "execution_count": null,
   "metadata": {},
   "outputs": [],
   "source": [
    "Syntax for  loop"
   ]
  },
  {
   "cell_type": "code",
   "execution_count": null,
   "metadata": {},
   "outputs": [],
   "source": [
    "for tempvar in mainvar:\n",
    "    print(tempvar)"
   ]
  },
  {
   "cell_type": "code",
   "execution_count": 3,
   "metadata": {},
   "outputs": [
    {
     "name": "stdout",
     "output_type": "stream",
     "text": [
      "Keep up the goodwroks, amardeep\n",
      "Keep up the goodwroks, sania\n",
      "Keep up the goodwroks, kumar\n",
      "Keep up the goodwroks, vishnu\n",
      "Keep up the goodwroks, rashmilla\n",
      "Keep up the goodwroks, keerthi\n"
     ]
    }
   ],
   "source": [
    "for x in students:\n",
    "    print(f\"Keep up the goodwroks, {x}\")"
   ]
  },
  {
   "cell_type": "code",
   "execution_count": 7,
   "metadata": {},
   "outputs": [
    {
     "name": "stdout",
     "output_type": "stream",
     "text": [
      "keep up the good works,Amardeep\n",
      "I am looking forward to recieve your github urls,Amardeep\n",
      "\n",
      "keep up the good works,Sania\n",
      "I am looking forward to recieve your github urls,Sania\n",
      "\n",
      "keep up the good works,Kumar\n",
      "I am looking forward to recieve your github urls,Kumar\n",
      "\n",
      "keep up the good works,Vishnu\n",
      "I am looking forward to recieve your github urls,Vishnu\n",
      "\n",
      "keep up the good works,Rashmilla\n",
      "I am looking forward to recieve your github urls,Rashmilla\n",
      "\n",
      "keep up the good works,Keerthi\n",
      "I am looking forward to recieve your github urls,Keerthi\n",
      "\n",
      "Thank you all of your good work!!!!\n"
     ]
    }
   ],
   "source": [
    "for batman in students:\n",
    "    print(f\"keep up the good works,{batman.title()}\")\n",
    "    print(f\"I am looking forward to recieve your github urls,{batman.title()}\\n\")\n",
    "print('Thank you all of your good work!!!!')"
   ]
  },
  {
   "cell_type": "code",
   "execution_count": null,
   "metadata": {},
   "outputs": [],
   "source": []
  },
  {
   "cell_type": "code",
   "execution_count": null,
   "metadata": {},
   "outputs": [],
   "source": []
  },
  {
   "cell_type": "code",
   "execution_count": null,
   "metadata": {},
   "outputs": [],
   "source": []
  },
  {
   "cell_type": "code",
   "execution_count": null,
   "metadata": {},
   "outputs": [],
   "source": []
  },
  {
   "cell_type": "code",
   "execution_count": null,
   "metadata": {},
   "outputs": [],
   "source": []
  }
 ],
 "metadata": {
  "kernelspec": {
   "display_name": "Python 3",
   "language": "python",
   "name": "python3"
  },
  "language_info": {
   "codemirror_mode": {
    "name": "ipython",
    "version": 3
   },
   "file_extension": ".py",
   "mimetype": "text/x-python",
   "name": "python",
   "nbconvert_exporter": "python",
   "pygments_lexer": "ipython3",
   "version": "3.8.5"
  }
 },
 "nbformat": 4,
 "nbformat_minor": 4
}
